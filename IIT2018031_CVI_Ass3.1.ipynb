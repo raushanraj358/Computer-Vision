import numpy as np
import urllib.request
import cv2
from google.colab.patches import cv2_imshow
# METHOD #1: OpenCV, NumPy, and urllib
def url_to_image(url):
	# download the image, convert it to a NumPy array, and then read
	# it into OpenCV format
	resp = urllib.request.urlopen(url)
	image = np.asarray(bytearray(resp.read()), dtype="uint8")
	image = cv2.imdecode(image, cv2.IMREAD_COLOR)
	# return the image
	return image
img_link="https://upload.wikimedia.org/wikipedia/en/7/7d/Lenna_%28test_image%29.png"
img=url_to_image(img_link)
h1,w1,_=img.shape
newimg=np.zeros((h1,w1))
for i in range(h1):
  for j in range(w1):
    avg=img[i][j][0]+img[i][j][1]+img[i][j][2]
    avg=avg/3
    newimg[i,j]=avg
cv2_imshow(img)
cv2_imshow(newimg)
for i in range(h1):
  for j in range(w1):
    avg=0.0722*img[i,j,0]+0.7152*img[i,j,1]+0.2126*img[i,j,2]
    newimg[i,j]=avg

cv2_imshow(newimg)