cv2_imshow(newimg)
import numpy as np


def gaussian_kernel(size, sigma=1):
    size = int(size) // 2
    x, y = np.mgrid[-size:size+1, -size:size+1]
    normal = 1 / (2.0 * np.pi * sigma**2)
    g =  np.exp(-((x*2 + y2) / (2.0*sigma*2))) * normal
    return g
gaussianBlur = cv2.filter2D(src=newimg, kernel=gaussian_kernel(5,1), ddepth=-1)
#cv2_imshow(gaussianBlur)



def sobel_filters(img):
    Kx = np.array([[-1, 0, 1], [-2, 0, 2], [-1, 0, 1]], np.float32)
    Ky = np.array([[1, 2, 1], [0, 0, 0], [-1, -2, -1]], np.float32)
    
   
    Ix=cv2.filter2D(src=newimg, kernel=Kx, ddepth=-1)
    Iy=cv2.filter2D(src=newimg, kernel=Ky, ddepth=-1)
    
    G = np.hypot(Ix, Iy)
    G = G / G.max() * 255
    theta = np.arctan2(Iy, Ix)
    
    return (G, theta)
G,_=sobel_filters(newimg)
cv2_imshow(G)